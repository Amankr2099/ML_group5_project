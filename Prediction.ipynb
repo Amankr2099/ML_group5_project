{
 "cells": [
  {
   "cell_type": "code",
   "execution_count": 25,
   "metadata": {
    "colab": {
     "base_uri": "https://localhost:8080/"
    },
    "id": "rmW2GmGyGsSf",
    "outputId": "0ed60376-ef61-4f87-cadc-50440338bfd0"
   },
   "outputs": [
    {
     "ename": "SyntaxError",
     "evalue": "invalid syntax (3844054968.py, line 6)",
     "output_type": "error",
     "traceback": [
      "\u001b[1;36m  Cell \u001b[1;32mIn[25], line 6\u001b[1;36m\u001b[0m\n\u001b[1;33m    import sklearn.svm import SVC\u001b[0m\n\u001b[1;37m                       ^\u001b[0m\n\u001b[1;31mSyntaxError\u001b[0m\u001b[1;31m:\u001b[0m invalid syntax\n"
     ]
    }
   ],
   "source": [
    "import pickle\n",
    "import pandas as pd\n",
    "from nltk.corpus import stopwords\n",
    "from nltk.stem import PorterStemmer, WordNetLemmatizer\n",
    "from sklearn.feature_extraction.text import TfidfVectorizer\n",
    "import sklearn.svm import SVC\n",
    "import re\n",
    "import nltk\n",
    "from nltk.corpus import stopwords\n",
    "nltk.download('stopwords')\n",
    "nltk.download('wordnet')"
   ]
  },
  {
   "cell_type": "code",
   "execution_count": 24,
   "metadata": {
    "id": "ZZMTr6enGvjv"
   },
   "outputs": [
    {
     "ename": "ModuleNotFoundError",
     "evalue": "No module named 'sklearn.svm.classes'",
     "output_type": "error",
     "traceback": [
      "\u001b[1;31m---------------------------------------------------------------------------\u001b[0m",
      "\u001b[1;31mModuleNotFoundError\u001b[0m                       Traceback (most recent call last)",
      "Cell \u001b[1;32mIn[24], line 4\u001b[0m\n\u001b[0;32m      1\u001b[0m \u001b[38;5;66;03m# Load the pre-trained model\u001b[39;00m\n\u001b[0;32m      2\u001b[0m \u001b[38;5;66;03m# filename = './final_models/finalized_model.sav'\u001b[39;00m\n\u001b[0;32m      3\u001b[0m filename \u001b[38;5;241m=\u001b[39m \u001b[38;5;124m'\u001b[39m\u001b[38;5;124m./final_model.pkl\u001b[39m\u001b[38;5;124m'\u001b[39m\n\u001b[1;32m----> 4\u001b[0m loaded_model \u001b[38;5;241m=\u001b[39m \u001b[43mpickle\u001b[49m\u001b[38;5;241;43m.\u001b[39;49m\u001b[43mload\u001b[49m\u001b[43m(\u001b[49m\u001b[38;5;28;43mopen\u001b[39;49m\u001b[43m(\u001b[49m\u001b[43mfilename\u001b[49m\u001b[43m,\u001b[49m\u001b[43m \u001b[49m\u001b[38;5;124;43m'\u001b[39;49m\u001b[38;5;124;43mrb\u001b[39;49m\u001b[38;5;124;43m'\u001b[39;49m\u001b[43m)\u001b[49m\u001b[43m)\u001b[49m\n",
      "\u001b[1;31mModuleNotFoundError\u001b[0m: No module named 'sklearn.svm.classes'"
     ]
    }
   ],
   "source": [
    "# Load the pre-trained model\n",
    "# filename = './final_models/finalized_model.sav'\n",
    "filename = './final_model.pkl'\n",
    "loaded_model = pickle.load(open(filename, 'rb'))\n"
   ]
  },
  {
   "cell_type": "code",
   "execution_count": 14,
   "metadata": {
    "id": "Z5PUy5quIdq0"
   },
   "outputs": [],
   "source": [
    "# Initialize the necessary text processing utilities\n",
    "vectorizer = TfidfVectorizer()\n",
    "stemmer = PorterStemmer()\n",
    "lemmatizer = WordNetLemmatizer()"
   ]
  },
  {
   "cell_type": "markdown",
   "metadata": {
    "id": "TQNlVhsWNBe5"
   },
   "source": [
    "### Pipeline of text processing"
   ]
  },
  {
   "cell_type": "code",
   "execution_count": 15,
   "metadata": {
    "id": "nN76etTWMRZt"
   },
   "outputs": [],
   "source": [
    "# Text processing functions\n",
    "def clean_text(text):\n",
    "    text = re.sub(r'@\\w+', '', text)  # Remove username\n",
    "    text = re.sub(r'http\\S+', '', text)  # Remove URLs\n",
    "    text = re.sub(r'[^a-zA-Z]', ' ', text)  # Keep alphabets\n",
    "    text = text.lower()\n",
    "    return text\n",
    "\n",
    "def tokenization(text):\n",
    "    return text.split()\n",
    "\n",
    "def filter_stopwords(text):\n",
    "    stop_words = set(stopwords.words('english'))\n",
    "    return [word for word in text if word not in stop_words]\n",
    "\n",
    "def stemming(text):\n",
    "    return [stemmer.stem(word) for word in text]\n",
    "\n",
    "def lemmatization(text):\n",
    "    return [lemmatizer.lemmatize(word) for word in text]\n",
    "\n",
    "def join_token(tokens):\n",
    "    return ' '.join(tokens)"
   ]
  },
  {
   "cell_type": "markdown",
   "metadata": {
    "id": "-8IQDmeuQCLx"
   },
   "source": [
    "### Fitting Vectorizor"
   ]
  },
  {
   "cell_type": "code",
   "execution_count": 16,
   "metadata": {
    "id": "Ks29s7abQzv9"
   },
   "outputs": [],
   "source": [
    "#load vectorized\n",
    "with open('./utilities/X_train.pkl', 'rb') as f:\n",
    "    X_train = pickle.load(f)"
   ]
  },
  {
   "cell_type": "code",
   "execution_count": 17,
   "metadata": {
    "colab": {
     "base_uri": "https://localhost:8080/"
    },
    "id": "8gGRhfKDQE91",
    "outputId": "734c9ba1-3d2c-43d8-bbad-b11efdab6aab"
   },
   "outputs": [
    {
     "data": {
      "text/plain": [
       "<Compressed Sparse Row sparse matrix of dtype 'float64'\n",
       "\twith 144501 stored elements and shape (19826, 13659)>"
      ]
     },
     "execution_count": 17,
     "metadata": {},
     "output_type": "execute_result"
    }
   ],
   "source": [
    "vectorizer = TfidfVectorizer()\n",
    "vectorizer.fit_transform(X_train)"
   ]
  },
  {
   "cell_type": "markdown",
   "metadata": {
    "id": "8RsLKO6jNHUt"
   },
   "source": [
    "### Model"
   ]
  },
  {
   "cell_type": "code",
   "execution_count": 22,
   "metadata": {
    "id": "HalW7zT9MUl8"
   },
   "outputs": [],
   "source": [
    "# def myModel(comment):\n",
    "#   comment_df = pd.DataFrame({'tweet': [comment]})\n",
    "#   comment_df = clean_text(str(comment_df))\n",
    "#   comment_df = filter_stopwords(comment_df)\n",
    "#   comment_df = stemming(comment_df)\n",
    "#   comment_df = join_token(comment_df)\n",
    "#   comment_df = vectorizer.transform([comment_df])\n",
    "#   probabilities = loaded_model.predict_proba(comment_df)\n",
    "\n",
    "#     # Map predicted class to label\n",
    "#   labels = {0: 'Hate', 1: 'Offensive', 2: 'Neutral'}\n",
    "#   predicted_class = probabilities.argmax()  # Get class with highest probability\n",
    "\n",
    "#   return predicted_class\n",
    "\n",
    "\n",
    "def myModel(comment):\n",
    "  # comment_df = pd.DataFrame({'tweet': [comment]})\n",
    "  # comment_df = clean_text(str(comment_df))\n",
    "  # comment_df = filter_stopwords(comment_df)\n",
    "  # comment_df = stemming(comment_df)\n",
    "  # comment_df = join_token(comment_df)\n",
    "  # comment_df = vectorizer.transform([comment_df])\n",
    "  # probabilities = loaded_model.predict_proba(comment_df)\n",
    "\n",
    "  #   # Map predicted class to label\n",
    "  # labels = {0: 'Hate', 1: 'Offensive', 2: 'Neutral'}\n",
    "  # predicted_class = probabilities.argmax()  # Get class with highest probability\n",
    "  predicted_class = \n",
    "\n",
    "  return predicted_class"
   ]
  },
  {
   "cell_type": "code",
   "execution_count": 23,
   "metadata": {
    "colab": {
     "base_uri": "https://localhost:8080/",
     "height": 36
    },
    "id": "FIEV-5nSMjSE",
    "outputId": "7dc71e88-4264-4149-b427-d9f6c169498f"
   },
   "outputs": [
    {
     "data": {
      "text/plain": [
       "{'Predicted Label': 'Offensive',\n",
       " 'Probabilities': {'Hate': 0.05757964807066224,\n",
       "  'Offensive': 0.4854663484928761,\n",
       "  'Neutral': 0.45695400343646175}}"
      ]
     },
     "execution_count": 23,
     "metadata": {},
     "output_type": "execute_result"
    }
   ],
   "source": [
    "comment = 'I love her and she is good girl'\n",
    "myModel(comment)"
   ]
  },
  {
   "cell_type": "code",
   "execution_count": null,
   "metadata": {},
   "outputs": [],
   "source": []
  }
 ],
 "metadata": {
  "colab": {
   "provenance": []
  },
  "kernelspec": {
   "display_name": "Python 3 (ipykernel)",
   "language": "python",
   "name": "python3"
  },
  "language_info": {
   "codemirror_mode": {
    "name": "ipython",
    "version": 3
   },
   "file_extension": ".py",
   "mimetype": "text/x-python",
   "name": "python",
   "nbconvert_exporter": "python",
   "pygments_lexer": "ipython3",
   "version": "3.12.0"
  }
 },
 "nbformat": 4,
 "nbformat_minor": 4
}
