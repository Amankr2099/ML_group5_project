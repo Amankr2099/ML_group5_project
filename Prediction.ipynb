{
 "cells": [
  {
   "cell_type": "code",
   "execution_count": 1,
   "metadata": {
    "colab": {
     "base_uri": "https://localhost:8080/"
    },
    "id": "rmW2GmGyGsSf",
    "outputId": "0ed60376-ef61-4f87-cadc-50440338bfd0"
   },
   "outputs": [
    {
     "name": "stderr",
     "output_type": "stream",
     "text": [
      "[nltk_data] Downloading package stopwords to\n",
      "[nltk_data]     C:\\Users\\ACER\\AppData\\Roaming\\nltk_data...\n",
      "[nltk_data]   Package stopwords is already up-to-date!\n",
      "[nltk_data] Downloading package wordnet to\n",
      "[nltk_data]     C:\\Users\\ACER\\AppData\\Roaming\\nltk_data...\n",
      "[nltk_data]   Package wordnet is already up-to-date!\n"
     ]
    },
    {
     "data": {
      "text/plain": [
       "True"
      ]
     },
     "execution_count": 1,
     "metadata": {},
     "output_type": "execute_result"
    }
   ],
   "source": [
    "import pickle\n",
    "import pandas as pd\n",
    "from nltk.corpus import stopwords\n",
    "from nltk.stem import PorterStemmer, WordNetLemmatizer\n",
    "from sklearn.feature_extraction.text import TfidfVectorizer\n",
    "import re\n",
    "import nltk\n",
    "from nltk.corpus import stopwords\n",
    "nltk.download('stopwords')\n",
    "nltk.download('wordnet')"
   ]
  },
  {
   "cell_type": "code",
   "execution_count": 3,
   "metadata": {
    "id": "ZZMTr6enGvjv"
   },
   "outputs": [],
   "source": [
    "# Load the pre-trained model\n",
    "filename = './final_models/finalized_model.sav'\n",
    "loaded_model = pickle.load(open(filename, 'rb'))\n"
   ]
  },
  {
   "cell_type": "code",
   "execution_count": 4,
   "metadata": {
    "id": "Z5PUy5quIdq0"
   },
   "outputs": [],
   "source": [
    "# Initialize the necessary text processing utilities\n",
    "vectorizer = TfidfVectorizer()\n",
    "stemmer = PorterStemmer()\n",
    "lemmatizer = WordNetLemmatizer()"
   ]
  },
  {
   "cell_type": "markdown",
   "metadata": {
    "id": "TQNlVhsWNBe5"
   },
   "source": [
    "### Pipeline of text processing"
   ]
  },
  {
   "cell_type": "code",
   "execution_count": 5,
   "metadata": {
    "id": "nN76etTWMRZt"
   },
   "outputs": [],
   "source": [
    "# Text processing functions\n",
    "def clean_text(text):\n",
    "    text = re.sub(r'@\\w+', '', text)  # Remove username\n",
    "    text = re.sub(r'http\\S+', '', text)  # Remove URLs\n",
    "    text = re.sub(r'[^a-zA-Z]', ' ', text)  # Keep alphabets\n",
    "    text = text.lower()\n",
    "    return text\n",
    "\n",
    "def tokenization(text):\n",
    "    return text.split()\n",
    "\n",
    "def filter_stopwords(text):\n",
    "    stop_words = set(stopwords.words('english'))\n",
    "    return [word for word in text if word not in stop_words]\n",
    "\n",
    "def stemming(text):\n",
    "    return [stemmer.stem(word) for word in text]\n",
    "\n",
    "def lemmatization(text):\n",
    "    return [lemmatizer.lemmatize(word) for word in text]\n",
    "\n",
    "def join_token(tokens):\n",
    "    return ' '.join(tokens)"
   ]
  },
  {
   "cell_type": "markdown",
   "metadata": {
    "id": "-8IQDmeuQCLx"
   },
   "source": [
    "### Fitting Vectorizor"
   ]
  },
  {
   "cell_type": "code",
   "execution_count": 6,
   "metadata": {
    "id": "Ks29s7abQzv9"
   },
   "outputs": [],
   "source": [
    "#load vectorized\n",
    "with open('./utilities/X_train.pkl', 'rb') as f:\n",
    "    X_train = pickle.load(f)"
   ]
  },
  {
   "cell_type": "code",
   "execution_count": 7,
   "metadata": {
    "colab": {
     "base_uri": "https://localhost:8080/"
    },
    "id": "8gGRhfKDQE91",
    "outputId": "734c9ba1-3d2c-43d8-bbad-b11efdab6aab"
   },
   "outputs": [
    {
     "data": {
      "text/plain": [
       "<Compressed Sparse Row sparse matrix of dtype 'float64'\n",
       "\twith 144501 stored elements and shape (19826, 13659)>"
      ]
     },
     "execution_count": 7,
     "metadata": {},
     "output_type": "execute_result"
    }
   ],
   "source": [
    "vectorizer = TfidfVectorizer()\n",
    "vectorizer.fit_transform(X_train)"
   ]
  },
  {
   "cell_type": "markdown",
   "metadata": {
    "id": "8RsLKO6jNHUt"
   },
   "source": [
    "### Model"
   ]
  },
  {
   "cell_type": "code",
   "execution_count": 10,
   "metadata": {
    "id": "HalW7zT9MUl8"
   },
   "outputs": [],
   "source": [
    "def myModel(comment):\n",
    "  comment_df = pd.DataFrame({'tweet': [comment]})\n",
    "  comment_df = clean_text(str(comment_df))\n",
    "  comment_df = filter_stopwords(comment_df)\n",
    "  comment_df = stemming(comment_df)\n",
    "  comment_df = join_token(comment_df)\n",
    "  comment_df = vectorizer.transform([comment_df])\n",
    "  probabilities = loaded_model.predict_proba(comment_df)\n",
    "\n",
    "    # Map predicted class to label\n",
    "  labels = {0: 'Hate', 1: 'Offensive', 2: 'Neutral'}\n",
    "  predicted_class = probabilities.argmax()  # Get class with highest probability\n",
    "\n",
    "  return labels[predicted_class]\n",
    "\n",
    "\n"
   ]
  },
  {
   "cell_type": "code",
   "execution_count": 12,
   "metadata": {
    "colab": {
     "base_uri": "https://localhost:8080/",
     "height": 36
    },
    "id": "FIEV-5nSMjSE",
    "outputId": "7dc71e88-4264-4149-b427-d9f6c169498f"
   },
   "outputs": [
    {
     "data": {
      "text/plain": [
       "'Offensive'"
      ]
     },
     "execution_count": 12,
     "metadata": {},
     "output_type": "execute_result"
    }
   ],
   "source": [
    "comment = 'I hate her and she is evil'\n",
    "myModel(comment)"
   ]
  },
  {
   "cell_type": "code",
   "execution_count": null,
   "metadata": {},
   "outputs": [],
   "source": []
  }
 ],
 "metadata": {
  "colab": {
   "provenance": []
  },
  "kernelspec": {
   "display_name": "Python 3 (ipykernel)",
   "language": "python",
   "name": "python3"
  },
  "language_info": {
   "codemirror_mode": {
    "name": "ipython",
    "version": 3
   },
   "file_extension": ".py",
   "mimetype": "text/x-python",
   "name": "python",
   "nbconvert_exporter": "python",
   "pygments_lexer": "ipython3",
   "version": "3.12.0"
  }
 },
 "nbformat": 4,
 "nbformat_minor": 4
}
